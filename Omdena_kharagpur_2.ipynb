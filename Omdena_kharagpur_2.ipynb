{
  "nbformat": 4,
  "nbformat_minor": 0,
  "metadata": {
    "colab": {
      "provenance": [],
      "mount_file_id": "1GX8_61ciQ-_S18Cm0RTRN0mGmVxCLmx-",
      "authorship_tag": "ABX9TyNoZ5OqN88b+6aIbb5lF3kQ",
      "include_colab_link": true
    },
    "kernelspec": {
      "name": "python3",
      "display_name": "Python 3"
    },
    "language_info": {
      "name": "python"
    },
    "accelerator": "GPU",
    "gpuClass": "standard"
  },
  "cells": [
    {
      "cell_type": "markdown",
      "metadata": {
        "id": "view-in-github",
        "colab_type": "text"
      },
      "source": [
        "<a href=\"https://colab.research.google.com/github/amanshah22073/Omdena---Kharagpur/blob/main/Omdena_kharagpur_2.ipynb\" target=\"_parent\"><img src=\"https://colab.research.google.com/assets/colab-badge.svg\" alt=\"Open In Colab\"/></a>"
      ]
    },
    {
      "cell_type": "code",
      "execution_count": 1,
      "metadata": {
        "id": "0nKmBBcscPB1"
      },
      "outputs": [],
      "source": [
        "import pandas as pd"
      ]
    },
    {
      "cell_type": "code",
      "source": [
        "df = pd.read_excel('/content/drive/MyDrive/Sample Data _ Nov 14.xlsx')"
      ],
      "metadata": {
        "id": "qOjVH-6AcT1Y"
      },
      "execution_count": 2,
      "outputs": []
    },
    {
      "cell_type": "code",
      "source": [
        "df"
      ],
      "metadata": {
        "colab": {
          "base_uri": "https://localhost:8080/",
          "height": 424
        },
        "id": "a3NHHd7AckBG",
        "outputId": "a3bb6427-983b-490f-f0fa-1aca50351574"
      },
      "execution_count": 3,
      "outputs": [
        {
          "output_type": "execute_result",
          "data": {
            "text/plain": [
              "                             User Name  \\\n",
              "0                                  NaN   \n",
              "1                    ShrimanthSadalagi   \n",
              "2                       Gomathinayagam   \n",
              "3                          Divya Ujwal   \n",
              "4    CommonMan Suresh Gupta Mittapally   \n",
              "..                                 ...   \n",
              "528                        SatishKumar   \n",
              "529                        Arun Pareek   \n",
              "530                      Venkatesh C S   \n",
              "531                             Tiwari   \n",
              "532                 Swaraj Ashish Jain   \n",
              "\n",
              "                                            Suggestion  \n",
              "0                                                  NaN  \n",
              "1    Respected Madam/Sir,\\nWe Krushi Mitra Grameen ...  \n",
              "2    Dear sir\\nAs I already update the AC sitting c...  \n",
              "3    Respected Sir, I want to give suggestions rega...  \n",
              "4    green birthday: I am visiting schools to motiv...  \n",
              "..                                                 ...  \n",
              "528  आयुष्मान भारत के तहत कार्यरत आयुष्मान मित्र की...  \n",
              "529  Everybody have to join Indian Army / Airforce ...  \n",
              "530  my above submissions not taken seriously by H ...  \n",
              "531  Tourism and Image of India - whats the first t...  \n",
              "532  म.प्र में 150 युनिट तक की खपत के बिजली बिल पर ...  \n",
              "\n",
              "[533 rows x 2 columns]"
            ],
            "text/html": [
              "\n",
              "  <div id=\"df-54a3abc6-b2b2-42dd-9dbc-8d51769db87d\">\n",
              "    <div class=\"colab-df-container\">\n",
              "      <div>\n",
              "<style scoped>\n",
              "    .dataframe tbody tr th:only-of-type {\n",
              "        vertical-align: middle;\n",
              "    }\n",
              "\n",
              "    .dataframe tbody tr th {\n",
              "        vertical-align: top;\n",
              "    }\n",
              "\n",
              "    .dataframe thead th {\n",
              "        text-align: right;\n",
              "    }\n",
              "</style>\n",
              "<table border=\"1\" class=\"dataframe\">\n",
              "  <thead>\n",
              "    <tr style=\"text-align: right;\">\n",
              "      <th></th>\n",
              "      <th>User Name</th>\n",
              "      <th>Suggestion</th>\n",
              "    </tr>\n",
              "  </thead>\n",
              "  <tbody>\n",
              "    <tr>\n",
              "      <th>0</th>\n",
              "      <td>NaN</td>\n",
              "      <td>NaN</td>\n",
              "    </tr>\n",
              "    <tr>\n",
              "      <th>1</th>\n",
              "      <td>ShrimanthSadalagi</td>\n",
              "      <td>Respected Madam/Sir,\\nWe Krushi Mitra Grameen ...</td>\n",
              "    </tr>\n",
              "    <tr>\n",
              "      <th>2</th>\n",
              "      <td>Gomathinayagam</td>\n",
              "      <td>Dear sir\\nAs I already update the AC sitting c...</td>\n",
              "    </tr>\n",
              "    <tr>\n",
              "      <th>3</th>\n",
              "      <td>Divya Ujwal</td>\n",
              "      <td>Respected Sir, I want to give suggestions rega...</td>\n",
              "    </tr>\n",
              "    <tr>\n",
              "      <th>4</th>\n",
              "      <td>CommonMan Suresh Gupta Mittapally</td>\n",
              "      <td>green birthday: I am visiting schools to motiv...</td>\n",
              "    </tr>\n",
              "    <tr>\n",
              "      <th>...</th>\n",
              "      <td>...</td>\n",
              "      <td>...</td>\n",
              "    </tr>\n",
              "    <tr>\n",
              "      <th>528</th>\n",
              "      <td>SatishKumar</td>\n",
              "      <td>आयुष्मान भारत के तहत कार्यरत आयुष्मान मित्र की...</td>\n",
              "    </tr>\n",
              "    <tr>\n",
              "      <th>529</th>\n",
              "      <td>Arun Pareek</td>\n",
              "      <td>Everybody have to join Indian Army / Airforce ...</td>\n",
              "    </tr>\n",
              "    <tr>\n",
              "      <th>530</th>\n",
              "      <td>Venkatesh C S</td>\n",
              "      <td>my above submissions not taken seriously by H ...</td>\n",
              "    </tr>\n",
              "    <tr>\n",
              "      <th>531</th>\n",
              "      <td>Tiwari</td>\n",
              "      <td>Tourism and Image of India - whats the first t...</td>\n",
              "    </tr>\n",
              "    <tr>\n",
              "      <th>532</th>\n",
              "      <td>Swaraj Ashish Jain</td>\n",
              "      <td>म.प्र में 150 युनिट तक की खपत के बिजली बिल पर ...</td>\n",
              "    </tr>\n",
              "  </tbody>\n",
              "</table>\n",
              "<p>533 rows × 2 columns</p>\n",
              "</div>\n",
              "      <button class=\"colab-df-convert\" onclick=\"convertToInteractive('df-54a3abc6-b2b2-42dd-9dbc-8d51769db87d')\"\n",
              "              title=\"Convert this dataframe to an interactive table.\"\n",
              "              style=\"display:none;\">\n",
              "        \n",
              "  <svg xmlns=\"http://www.w3.org/2000/svg\" height=\"24px\"viewBox=\"0 0 24 24\"\n",
              "       width=\"24px\">\n",
              "    <path d=\"M0 0h24v24H0V0z\" fill=\"none\"/>\n",
              "    <path d=\"M18.56 5.44l.94 2.06.94-2.06 2.06-.94-2.06-.94-.94-2.06-.94 2.06-2.06.94zm-11 1L8.5 8.5l.94-2.06 2.06-.94-2.06-.94L8.5 2.5l-.94 2.06-2.06.94zm10 10l.94 2.06.94-2.06 2.06-.94-2.06-.94-.94-2.06-.94 2.06-2.06.94z\"/><path d=\"M17.41 7.96l-1.37-1.37c-.4-.4-.92-.59-1.43-.59-.52 0-1.04.2-1.43.59L10.3 9.45l-7.72 7.72c-.78.78-.78 2.05 0 2.83L4 21.41c.39.39.9.59 1.41.59.51 0 1.02-.2 1.41-.59l7.78-7.78 2.81-2.81c.8-.78.8-2.07 0-2.86zM5.41 20L4 18.59l7.72-7.72 1.47 1.35L5.41 20z\"/>\n",
              "  </svg>\n",
              "      </button>\n",
              "      \n",
              "  <style>\n",
              "    .colab-df-container {\n",
              "      display:flex;\n",
              "      flex-wrap:wrap;\n",
              "      gap: 12px;\n",
              "    }\n",
              "\n",
              "    .colab-df-convert {\n",
              "      background-color: #E8F0FE;\n",
              "      border: none;\n",
              "      border-radius: 50%;\n",
              "      cursor: pointer;\n",
              "      display: none;\n",
              "      fill: #1967D2;\n",
              "      height: 32px;\n",
              "      padding: 0 0 0 0;\n",
              "      width: 32px;\n",
              "    }\n",
              "\n",
              "    .colab-df-convert:hover {\n",
              "      background-color: #E2EBFA;\n",
              "      box-shadow: 0px 1px 2px rgba(60, 64, 67, 0.3), 0px 1px 3px 1px rgba(60, 64, 67, 0.15);\n",
              "      fill: #174EA6;\n",
              "    }\n",
              "\n",
              "    [theme=dark] .colab-df-convert {\n",
              "      background-color: #3B4455;\n",
              "      fill: #D2E3FC;\n",
              "    }\n",
              "\n",
              "    [theme=dark] .colab-df-convert:hover {\n",
              "      background-color: #434B5C;\n",
              "      box-shadow: 0px 1px 3px 1px rgba(0, 0, 0, 0.15);\n",
              "      filter: drop-shadow(0px 1px 2px rgba(0, 0, 0, 0.3));\n",
              "      fill: #FFFFFF;\n",
              "    }\n",
              "  </style>\n",
              "\n",
              "      <script>\n",
              "        const buttonEl =\n",
              "          document.querySelector('#df-54a3abc6-b2b2-42dd-9dbc-8d51769db87d button.colab-df-convert');\n",
              "        buttonEl.style.display =\n",
              "          google.colab.kernel.accessAllowed ? 'block' : 'none';\n",
              "\n",
              "        async function convertToInteractive(key) {\n",
              "          const element = document.querySelector('#df-54a3abc6-b2b2-42dd-9dbc-8d51769db87d');\n",
              "          const dataTable =\n",
              "            await google.colab.kernel.invokeFunction('convertToInteractive',\n",
              "                                                     [key], {});\n",
              "          if (!dataTable) return;\n",
              "\n",
              "          const docLinkHtml = 'Like what you see? Visit the ' +\n",
              "            '<a target=\"_blank\" href=https://colab.research.google.com/notebooks/data_table.ipynb>data table notebook</a>'\n",
              "            + ' to learn more about interactive tables.';\n",
              "          element.innerHTML = '';\n",
              "          dataTable['output_type'] = 'display_data';\n",
              "          await google.colab.output.renderOutput(dataTable, element);\n",
              "          const docLink = document.createElement('div');\n",
              "          docLink.innerHTML = docLinkHtml;\n",
              "          element.appendChild(docLink);\n",
              "        }\n",
              "      </script>\n",
              "    </div>\n",
              "  </div>\n",
              "  "
            ]
          },
          "metadata": {},
          "execution_count": 3
        }
      ]
    },
    {
      "cell_type": "code",
      "source": [
        "text = df['Suggestion'][532]"
      ],
      "metadata": {
        "id": "CdfK2X0HcoRk"
      },
      "execution_count": 4,
      "outputs": []
    },
    {
      "cell_type": "code",
      "source": [
        "text"
      ],
      "metadata": {
        "colab": {
          "base_uri": "https://localhost:8080/",
          "height": 105
        },
        "id": "nEXIW-cpc7Ty",
        "outputId": "0ddb69ec-6acc-4c6d-9d4b-51d8db599e5d"
      },
      "execution_count": 5,
      "outputs": [
        {
          "output_type": "execute_result",
          "data": {
            "text/plain": [
              "'म.प्र में 150 युनिट तक की खपत के बिजली बिल पर राज्य सरकार द्वारा लगभग 500 से 700 रुपये प्रति उपभोक्ता/बिल सब्सिडी दी जाती है, क्या यह अच्छा नहीं होगा कि एक एसपीवी या ज्वाइन्ट वेंचर बनाया जाये जिसमे केन्द्र राज्य और कॉर्पोरेट्स की भागीदारी हो और यह वेंचर ऐसे सभी उपभोक्ताओं जिनकी खपत लगातार 150 यूनिट के आसपास आ रही है, उनके घर की रुफ पर अपनी लागत पर ( बिना उपभोक्ता से एक भी पैसा लिये) लगभग 2 केवी का ग्रिड आधारित सोलर पैनल सिस्टम लगाये, इससे लगभग 8 के वी सोलर पावर जेनरेट होगी जिसमें से लगभग 150-200 यूनिट प्रतिमाह उपभोक्ता के उपयोग के बाद ग्रिड मेंं चली जाये, और उपभोक्ता का बिल जैसा पहले आ रहा था वैसै ही उसी सब्सिडी पैटर्न पर आता रहे, इससे उपभोक्ता की खपत के बाद जो बिजली ग्रिड में जायेगी उससे इस सिस्टम के इंस्टालेशन की लागत की वसूली होती रहेगी और कुल मिलाकर जितने सिस्टम इस योजना से उपभोक्ता से बिना पैसा लिये स्थापित किये जायेंगे उनके कार्बन क्रेडिट बेचकर इनकी लागत और स्थापना व्यय की पूर्ति होती रहेगी, इससे कोयला,गैस पर निर्भरता घटेगी , सौर ऊर्जा के लिए स्थान की लागत की जरुरत नहीं होगी'"
            ],
            "application/vnd.google.colaboratory.intrinsic+json": {
              "type": "string"
            }
          },
          "metadata": {},
          "execution_count": 5
        }
      ]
    },
    {
      "cell_type": "code",
      "source": [
        "pip install googletrans==3.1.0a0"
      ],
      "metadata": {
        "colab": {
          "base_uri": "https://localhost:8080/"
        },
        "id": "5UkiusOyc8c3",
        "outputId": "de016033-461c-4bd9-bc57-ad82ec08652c"
      },
      "execution_count": 6,
      "outputs": [
        {
          "output_type": "stream",
          "name": "stdout",
          "text": [
            "Looking in indexes: https://pypi.org/simple, https://us-python.pkg.dev/colab-wheels/public/simple/\n",
            "Requirement already satisfied: googletrans==3.1.0a0 in /usr/local/lib/python3.8/dist-packages (3.1.0a0)\n",
            "Requirement already satisfied: httpx==0.13.3 in /usr/local/lib/python3.8/dist-packages (from googletrans==3.1.0a0) (0.13.3)\n",
            "Requirement already satisfied: idna==2.* in /usr/local/lib/python3.8/dist-packages (from httpx==0.13.3->googletrans==3.1.0a0) (2.10)\n",
            "Requirement already satisfied: rfc3986<2,>=1.3 in /usr/local/lib/python3.8/dist-packages (from httpx==0.13.3->googletrans==3.1.0a0) (1.5.0)\n",
            "Requirement already satisfied: hstspreload in /usr/local/lib/python3.8/dist-packages (from httpx==0.13.3->googletrans==3.1.0a0) (2022.12.1)\n",
            "Requirement already satisfied: httpcore==0.9.* in /usr/local/lib/python3.8/dist-packages (from httpx==0.13.3->googletrans==3.1.0a0) (0.9.1)\n",
            "Requirement already satisfied: chardet==3.* in /usr/local/lib/python3.8/dist-packages (from httpx==0.13.3->googletrans==3.1.0a0) (3.0.4)\n",
            "Requirement already satisfied: sniffio in /usr/local/lib/python3.8/dist-packages (from httpx==0.13.3->googletrans==3.1.0a0) (1.3.0)\n",
            "Requirement already satisfied: certifi in /usr/local/lib/python3.8/dist-packages (from httpx==0.13.3->googletrans==3.1.0a0) (2022.9.24)\n",
            "Requirement already satisfied: h2==3.* in /usr/local/lib/python3.8/dist-packages (from httpcore==0.9.*->httpx==0.13.3->googletrans==3.1.0a0) (3.2.0)\n",
            "Requirement already satisfied: h11<0.10,>=0.8 in /usr/local/lib/python3.8/dist-packages (from httpcore==0.9.*->httpx==0.13.3->googletrans==3.1.0a0) (0.9.0)\n",
            "Requirement already satisfied: hpack<4,>=3.0 in /usr/local/lib/python3.8/dist-packages (from h2==3.*->httpcore==0.9.*->httpx==0.13.3->googletrans==3.1.0a0) (3.0.0)\n",
            "Requirement already satisfied: hyperframe<6,>=5.2.0 in /usr/local/lib/python3.8/dist-packages (from h2==3.*->httpcore==0.9.*->httpx==0.13.3->googletrans==3.1.0a0) (5.2.0)\n"
          ]
        }
      ]
    },
    {
      "cell_type": "code",
      "source": [
        "from googletrans import Translator\n",
        "translator = Translator()\n",
        "import googletrans"
      ],
      "metadata": {
        "id": "hqxehodEglU9"
      },
      "execution_count": 7,
      "outputs": []
    },
    {
      "cell_type": "code",
      "source": [
        "print(googletrans.LANGUAGES)"
      ],
      "metadata": {
        "colab": {
          "base_uri": "https://localhost:8080/"
        },
        "id": "RqYny44_g0Bc",
        "outputId": "8437d048-b4dc-4ba5-9119-2cbb6289ab4f"
      },
      "execution_count": 8,
      "outputs": [
        {
          "output_type": "stream",
          "name": "stdout",
          "text": [
            "{'af': 'afrikaans', 'sq': 'albanian', 'am': 'amharic', 'ar': 'arabic', 'hy': 'armenian', 'az': 'azerbaijani', 'eu': 'basque', 'be': 'belarusian', 'bn': 'bengali', 'bs': 'bosnian', 'bg': 'bulgarian', 'ca': 'catalan', 'ceb': 'cebuano', 'ny': 'chichewa', 'zh-cn': 'chinese (simplified)', 'zh-tw': 'chinese (traditional)', 'co': 'corsican', 'hr': 'croatian', 'cs': 'czech', 'da': 'danish', 'nl': 'dutch', 'en': 'english', 'eo': 'esperanto', 'et': 'estonian', 'tl': 'filipino', 'fi': 'finnish', 'fr': 'french', 'fy': 'frisian', 'gl': 'galician', 'ka': 'georgian', 'de': 'german', 'el': 'greek', 'gu': 'gujarati', 'ht': 'haitian creole', 'ha': 'hausa', 'haw': 'hawaiian', 'iw': 'hebrew', 'he': 'hebrew', 'hi': 'hindi', 'hmn': 'hmong', 'hu': 'hungarian', 'is': 'icelandic', 'ig': 'igbo', 'id': 'indonesian', 'ga': 'irish', 'it': 'italian', 'ja': 'japanese', 'jw': 'javanese', 'kn': 'kannada', 'kk': 'kazakh', 'km': 'khmer', 'ko': 'korean', 'ku': 'kurdish (kurmanji)', 'ky': 'kyrgyz', 'lo': 'lao', 'la': 'latin', 'lv': 'latvian', 'lt': 'lithuanian', 'lb': 'luxembourgish', 'mk': 'macedonian', 'mg': 'malagasy', 'ms': 'malay', 'ml': 'malayalam', 'mt': 'maltese', 'mi': 'maori', 'mr': 'marathi', 'mn': 'mongolian', 'my': 'myanmar (burmese)', 'ne': 'nepali', 'no': 'norwegian', 'or': 'odia', 'ps': 'pashto', 'fa': 'persian', 'pl': 'polish', 'pt': 'portuguese', 'pa': 'punjabi', 'ro': 'romanian', 'ru': 'russian', 'sm': 'samoan', 'gd': 'scots gaelic', 'sr': 'serbian', 'st': 'sesotho', 'sn': 'shona', 'sd': 'sindhi', 'si': 'sinhala', 'sk': 'slovak', 'sl': 'slovenian', 'so': 'somali', 'es': 'spanish', 'su': 'sundanese', 'sw': 'swahili', 'sv': 'swedish', 'tg': 'tajik', 'ta': 'tamil', 'te': 'telugu', 'th': 'thai', 'tr': 'turkish', 'uk': 'ukrainian', 'ur': 'urdu', 'ug': 'uyghur', 'uz': 'uzbek', 'vi': 'vietnamese', 'cy': 'welsh', 'xh': 'xhosa', 'yi': 'yiddish', 'yo': 'yoruba', 'zu': 'zulu'}\n"
          ]
        }
      ]
    },
    {
      "cell_type": "code",
      "source": [
        "print(translator.detect(text))"
      ],
      "metadata": {
        "colab": {
          "base_uri": "https://localhost:8080/"
        },
        "id": "rdQui8rNjTTu",
        "outputId": "6ad617c6-ad9d-46bd-e602-fbef23508f9e"
      },
      "execution_count": 11,
      "outputs": [
        {
          "output_type": "stream",
          "name": "stdout",
          "text": [
            "Detected(lang=hi, confidence=1)\n"
          ]
        }
      ]
    },
    {
      "cell_type": "code",
      "source": [
        "trans = translator.translate(text)"
      ],
      "metadata": {
        "id": "u_kQrGTBjVeP"
      },
      "execution_count": 39,
      "outputs": []
    },
    {
      "cell_type": "code",
      "source": [
        "print(trans.text)"
      ],
      "metadata": {
        "colab": {
          "base_uri": "https://localhost:8080/"
        },
        "id": "5bFGBODerSRz",
        "outputId": "0e32443d-7ee5-4eb5-abd1-d522b469642d"
      },
      "execution_count": 40,
      "outputs": [
        {
          "output_type": "stream",
          "name": "stdout",
          "text": [
            "In MP, about 500 to 700 rupees per consumer / bill subsidy is given by the state government on the electricity bill for the consumption of up to 150 units, would it not be good to form an SPV or joint venture in which the participation of the central state and corporates Ho and this venture to install grid based solar panel system of about 2 KV on the roof of all such consumers whose consumption is continuously coming around 150 units, at their own cost (without taking a single penny from the consumer), from this about 8 KV V. Solar power will be generated out of which about 150-200 units per month will go to the grid after the consumer's use, and the consumer's bill will continue to come on the same subsidy pattern as before. The cost of installation of this system will continue to be recovered and overall the cost and installation expenses will be met by selling carbon credits of all the systems that will be installed without taking money from the consumer, this will reduce the dependence on coal and gas. No space cost required for solar power\n"
          ]
        }
      ]
    },
    {
      "cell_type": "code",
      "source": [
        "chars_hindi = [chr(c) for c in range(0x0900, 0x097f)]\n",
        "df_hindi = df.loc[df.Suggestion.str.contains('|'.join(chars_hindi) , na= False )]"
      ],
      "metadata": {
        "id": "47ZOOkOPlyOq"
      },
      "execution_count": 20,
      "outputs": []
    },
    {
      "cell_type": "code",
      "source": [
        "df_hindi"
      ],
      "metadata": {
        "colab": {
          "base_uri": "https://localhost:8080/",
          "height": 424
        },
        "id": "T1wFLda4oRYv",
        "outputId": "a80278c1-ff02-4aff-8eae-bf483a974f41"
      },
      "execution_count": 21,
      "outputs": [
        {
          "output_type": "execute_result",
          "data": {
            "text/plain": [
              "                     User Name  \\\n",
              "5             Rakesh Kumar_169   \n",
              "11   PROF RAJENDRA KUMAR VIPAT   \n",
              "18          Piyush Shrivastava   \n",
              "20          Piyush Shrivastava   \n",
              "25           Shivangkumarsingh   \n",
              "..                         ...   \n",
              "524               ARVIND KUMAR   \n",
              "526                  HarshArya   \n",
              "527                  HarshArya   \n",
              "528                SatishKumar   \n",
              "532         Swaraj Ashish Jain   \n",
              "\n",
              "                                            Suggestion  \n",
              "5    मेरी इच्छा है कि आगामी चुनाव मे भी बीजेपी पूरे...  \n",
              "11   Hon.Respected Prime Minister sir सुप्रभात 💐💐🙏💐...  \n",
              "18   महोदय,\\nकृपया न्यायपालिका/शासन/पुलिस के चरित्र...  \n",
              "20   महोदय,\\nकृपया देश के महत्वपूर्ण पदों पर विराजि...  \n",
              "25   आप लोग इस न्यूज़ को हाईलाइट करें और सरकार तक प...  \n",
              "..                                                 ...  \n",
              "524  नमस्ते, निवेदन है कि प्रार्थी अरविन्द कुमार ग्...  \n",
              "526  प्रधानमंत्री जी को सादर प्रणाम।\\nमैं उत्तर प्र...  \n",
              "527  प्रधानमन्त्री जी कॊ प्रणाम,\\nभारत कॆ उत्तर प्र...  \n",
              "528  आयुष्मान भारत के तहत कार्यरत आयुष्मान मित्र की...  \n",
              "532  म.प्र में 150 युनिट तक की खपत के बिजली बिल पर ...  \n",
              "\n",
              "[91 rows x 2 columns]"
            ],
            "text/html": [
              "\n",
              "  <div id=\"df-bf8a58be-88a6-42be-8e2f-3cefb21ea53b\">\n",
              "    <div class=\"colab-df-container\">\n",
              "      <div>\n",
              "<style scoped>\n",
              "    .dataframe tbody tr th:only-of-type {\n",
              "        vertical-align: middle;\n",
              "    }\n",
              "\n",
              "    .dataframe tbody tr th {\n",
              "        vertical-align: top;\n",
              "    }\n",
              "\n",
              "    .dataframe thead th {\n",
              "        text-align: right;\n",
              "    }\n",
              "</style>\n",
              "<table border=\"1\" class=\"dataframe\">\n",
              "  <thead>\n",
              "    <tr style=\"text-align: right;\">\n",
              "      <th></th>\n",
              "      <th>User Name</th>\n",
              "      <th>Suggestion</th>\n",
              "    </tr>\n",
              "  </thead>\n",
              "  <tbody>\n",
              "    <tr>\n",
              "      <th>5</th>\n",
              "      <td>Rakesh Kumar_169</td>\n",
              "      <td>मेरी इच्छा है कि आगामी चुनाव मे भी बीजेपी पूरे...</td>\n",
              "    </tr>\n",
              "    <tr>\n",
              "      <th>11</th>\n",
              "      <td>PROF RAJENDRA KUMAR VIPAT</td>\n",
              "      <td>Hon.Respected Prime Minister sir सुप्रभात 💐💐🙏💐...</td>\n",
              "    </tr>\n",
              "    <tr>\n",
              "      <th>18</th>\n",
              "      <td>Piyush Shrivastava</td>\n",
              "      <td>महोदय,\\nकृपया न्यायपालिका/शासन/पुलिस के चरित्र...</td>\n",
              "    </tr>\n",
              "    <tr>\n",
              "      <th>20</th>\n",
              "      <td>Piyush Shrivastava</td>\n",
              "      <td>महोदय,\\nकृपया देश के महत्वपूर्ण पदों पर विराजि...</td>\n",
              "    </tr>\n",
              "    <tr>\n",
              "      <th>25</th>\n",
              "      <td>Shivangkumarsingh</td>\n",
              "      <td>आप लोग इस न्यूज़ को हाईलाइट करें और सरकार तक प...</td>\n",
              "    </tr>\n",
              "    <tr>\n",
              "      <th>...</th>\n",
              "      <td>...</td>\n",
              "      <td>...</td>\n",
              "    </tr>\n",
              "    <tr>\n",
              "      <th>524</th>\n",
              "      <td>ARVIND KUMAR</td>\n",
              "      <td>नमस्ते, निवेदन है कि प्रार्थी अरविन्द कुमार ग्...</td>\n",
              "    </tr>\n",
              "    <tr>\n",
              "      <th>526</th>\n",
              "      <td>HarshArya</td>\n",
              "      <td>प्रधानमंत्री जी को सादर प्रणाम।\\nमैं उत्तर प्र...</td>\n",
              "    </tr>\n",
              "    <tr>\n",
              "      <th>527</th>\n",
              "      <td>HarshArya</td>\n",
              "      <td>प्रधानमन्त्री जी कॊ प्रणाम,\\nभारत कॆ उत्तर प्र...</td>\n",
              "    </tr>\n",
              "    <tr>\n",
              "      <th>528</th>\n",
              "      <td>SatishKumar</td>\n",
              "      <td>आयुष्मान भारत के तहत कार्यरत आयुष्मान मित्र की...</td>\n",
              "    </tr>\n",
              "    <tr>\n",
              "      <th>532</th>\n",
              "      <td>Swaraj Ashish Jain</td>\n",
              "      <td>म.प्र में 150 युनिट तक की खपत के बिजली बिल पर ...</td>\n",
              "    </tr>\n",
              "  </tbody>\n",
              "</table>\n",
              "<p>91 rows × 2 columns</p>\n",
              "</div>\n",
              "      <button class=\"colab-df-convert\" onclick=\"convertToInteractive('df-bf8a58be-88a6-42be-8e2f-3cefb21ea53b')\"\n",
              "              title=\"Convert this dataframe to an interactive table.\"\n",
              "              style=\"display:none;\">\n",
              "        \n",
              "  <svg xmlns=\"http://www.w3.org/2000/svg\" height=\"24px\"viewBox=\"0 0 24 24\"\n",
              "       width=\"24px\">\n",
              "    <path d=\"M0 0h24v24H0V0z\" fill=\"none\"/>\n",
              "    <path d=\"M18.56 5.44l.94 2.06.94-2.06 2.06-.94-2.06-.94-.94-2.06-.94 2.06-2.06.94zm-11 1L8.5 8.5l.94-2.06 2.06-.94-2.06-.94L8.5 2.5l-.94 2.06-2.06.94zm10 10l.94 2.06.94-2.06 2.06-.94-2.06-.94-.94-2.06-.94 2.06-2.06.94z\"/><path d=\"M17.41 7.96l-1.37-1.37c-.4-.4-.92-.59-1.43-.59-.52 0-1.04.2-1.43.59L10.3 9.45l-7.72 7.72c-.78.78-.78 2.05 0 2.83L4 21.41c.39.39.9.59 1.41.59.51 0 1.02-.2 1.41-.59l7.78-7.78 2.81-2.81c.8-.78.8-2.07 0-2.86zM5.41 20L4 18.59l7.72-7.72 1.47 1.35L5.41 20z\"/>\n",
              "  </svg>\n",
              "      </button>\n",
              "      \n",
              "  <style>\n",
              "    .colab-df-container {\n",
              "      display:flex;\n",
              "      flex-wrap:wrap;\n",
              "      gap: 12px;\n",
              "    }\n",
              "\n",
              "    .colab-df-convert {\n",
              "      background-color: #E8F0FE;\n",
              "      border: none;\n",
              "      border-radius: 50%;\n",
              "      cursor: pointer;\n",
              "      display: none;\n",
              "      fill: #1967D2;\n",
              "      height: 32px;\n",
              "      padding: 0 0 0 0;\n",
              "      width: 32px;\n",
              "    }\n",
              "\n",
              "    .colab-df-convert:hover {\n",
              "      background-color: #E2EBFA;\n",
              "      box-shadow: 0px 1px 2px rgba(60, 64, 67, 0.3), 0px 1px 3px 1px rgba(60, 64, 67, 0.15);\n",
              "      fill: #174EA6;\n",
              "    }\n",
              "\n",
              "    [theme=dark] .colab-df-convert {\n",
              "      background-color: #3B4455;\n",
              "      fill: #D2E3FC;\n",
              "    }\n",
              "\n",
              "    [theme=dark] .colab-df-convert:hover {\n",
              "      background-color: #434B5C;\n",
              "      box-shadow: 0px 1px 3px 1px rgba(0, 0, 0, 0.15);\n",
              "      filter: drop-shadow(0px 1px 2px rgba(0, 0, 0, 0.3));\n",
              "      fill: #FFFFFF;\n",
              "    }\n",
              "  </style>\n",
              "\n",
              "      <script>\n",
              "        const buttonEl =\n",
              "          document.querySelector('#df-bf8a58be-88a6-42be-8e2f-3cefb21ea53b button.colab-df-convert');\n",
              "        buttonEl.style.display =\n",
              "          google.colab.kernel.accessAllowed ? 'block' : 'none';\n",
              "\n",
              "        async function convertToInteractive(key) {\n",
              "          const element = document.querySelector('#df-bf8a58be-88a6-42be-8e2f-3cefb21ea53b');\n",
              "          const dataTable =\n",
              "            await google.colab.kernel.invokeFunction('convertToInteractive',\n",
              "                                                     [key], {});\n",
              "          if (!dataTable) return;\n",
              "\n",
              "          const docLinkHtml = 'Like what you see? Visit the ' +\n",
              "            '<a target=\"_blank\" href=https://colab.research.google.com/notebooks/data_table.ipynb>data table notebook</a>'\n",
              "            + ' to learn more about interactive tables.';\n",
              "          element.innerHTML = '';\n",
              "          dataTable['output_type'] = 'display_data';\n",
              "          await google.colab.output.renderOutput(dataTable, element);\n",
              "          const docLink = document.createElement('div');\n",
              "          docLink.innerHTML = docLinkHtml;\n",
              "          element.appendChild(docLink);\n",
              "        }\n",
              "      </script>\n",
              "    </div>\n",
              "  </div>\n",
              "  "
            ]
          },
          "metadata": {},
          "execution_count": 21
        }
      ]
    },
    {
      "cell_type": "code",
      "source": [
        "def translated_text(text):\n",
        "    text1 = []\n",
        "    translated = translator.translate(text)\n",
        "    text1.append(translated.text)\n",
        "    return text1\n",
        "        \n",
        "             \n",
        "    "
      ],
      "metadata": {
        "id": "ijY4kShbojQR"
      },
      "execution_count": 42,
      "outputs": []
    },
    {
      "cell_type": "code",
      "source": [
        "df_hindi['Translated_text'] = df_hindi['Suggestion'].apply(translated_text)"
      ],
      "metadata": {
        "colab": {
          "base_uri": "https://localhost:8080/"
        },
        "id": "icUFa3xnprfX",
        "outputId": "f1a8020b-c9e5-4f10-d864-c727e16689aa"
      },
      "execution_count": 43,
      "outputs": [
        {
          "output_type": "stream",
          "name": "stderr",
          "text": [
            "<ipython-input-43-cdade00730eb>:1: SettingWithCopyWarning: \n",
            "A value is trying to be set on a copy of a slice from a DataFrame.\n",
            "Try using .loc[row_indexer,col_indexer] = value instead\n",
            "\n",
            "See the caveats in the documentation: https://pandas.pydata.org/pandas-docs/stable/user_guide/indexing.html#returning-a-view-versus-a-copy\n",
            "  df_hindi['Translated_text'] = df_hindi['Suggestion'].apply(translated_text)\n"
          ]
        }
      ]
    },
    {
      "cell_type": "code",
      "source": [
        "df_hindi.drop(['Suggestion'],axis = 1 , inplace = True)"
      ],
      "metadata": {
        "colab": {
          "base_uri": "https://localhost:8080/"
        },
        "id": "_uC0jS3jpvSW",
        "outputId": "60002603-55fe-4d6b-ac4d-eb6b0fd39db4"
      },
      "execution_count": 45,
      "outputs": [
        {
          "output_type": "stream",
          "name": "stderr",
          "text": [
            "/usr/local/lib/python3.8/dist-packages/pandas/core/frame.py:4906: SettingWithCopyWarning: \n",
            "A value is trying to be set on a copy of a slice from a DataFrame\n",
            "\n",
            "See the caveats in the documentation: https://pandas.pydata.org/pandas-docs/stable/user_guide/indexing.html#returning-a-view-versus-a-copy\n",
            "  return super().drop(\n"
          ]
        }
      ]
    },
    {
      "cell_type": "code",
      "source": [
        "df = df.astype(str)\n",
        "df_english = df[df.Suggestion.map(lambda x: x.isascii())]"
      ],
      "metadata": {
        "id": "ACrA_43pqIiL"
      },
      "execution_count": 49,
      "outputs": []
    },
    {
      "cell_type": "code",
      "source": [
        "df_english"
      ],
      "metadata": {
        "colab": {
          "base_uri": "https://localhost:8080/",
          "height": 424
        },
        "id": "ry52we9dsFBp",
        "outputId": "62aa2b49-e6d4-4e02-a940-739175d125df"
      },
      "execution_count": 50,
      "outputs": [
        {
          "output_type": "execute_result",
          "data": {
            "text/plain": [
              "                             User Name  \\\n",
              "0                                  nan   \n",
              "2                       Gomathinayagam   \n",
              "4    CommonMan Suresh Gupta Mittapally   \n",
              "6                        Vijay Inamdar   \n",
              "7                                Ram K   \n",
              "..                                 ...   \n",
              "522                         AlishaRani   \n",
              "523                    Deepanshu Gupta   \n",
              "525                      RAJEEV RANJAN   \n",
              "529                        Arun Pareek   \n",
              "530                      Venkatesh C S   \n",
              "\n",
              "                                            Suggestion  \n",
              "0                                                  nan  \n",
              "2    Dear sir\\nAs I already update the AC sitting c...  \n",
              "4    green birthday: I am visiting schools to motiv...  \n",
              "6    sir Smart city Dharwad railway station should ...  \n",
              "7    Indian women are India's biggest strength. Con...  \n",
              "..                                                 ...  \n",
              "522  Respected prime minister sir ma aap sa police ...  \n",
              "523  A New criteria and new way of Monetary punishm...  \n",
              "525  Request for lakes resoration:\\nDear PM,\\nAs we...  \n",
              "529  Everybody have to join Indian Army / Airforce ...  \n",
              "530  my above submissions not taken seriously by H ...  \n",
              "\n",
              "[396 rows x 2 columns]"
            ],
            "text/html": [
              "\n",
              "  <div id=\"df-7f9f8e4f-30d1-4b2d-b006-26a96c66b4e2\">\n",
              "    <div class=\"colab-df-container\">\n",
              "      <div>\n",
              "<style scoped>\n",
              "    .dataframe tbody tr th:only-of-type {\n",
              "        vertical-align: middle;\n",
              "    }\n",
              "\n",
              "    .dataframe tbody tr th {\n",
              "        vertical-align: top;\n",
              "    }\n",
              "\n",
              "    .dataframe thead th {\n",
              "        text-align: right;\n",
              "    }\n",
              "</style>\n",
              "<table border=\"1\" class=\"dataframe\">\n",
              "  <thead>\n",
              "    <tr style=\"text-align: right;\">\n",
              "      <th></th>\n",
              "      <th>User Name</th>\n",
              "      <th>Suggestion</th>\n",
              "    </tr>\n",
              "  </thead>\n",
              "  <tbody>\n",
              "    <tr>\n",
              "      <th>0</th>\n",
              "      <td>nan</td>\n",
              "      <td>nan</td>\n",
              "    </tr>\n",
              "    <tr>\n",
              "      <th>2</th>\n",
              "      <td>Gomathinayagam</td>\n",
              "      <td>Dear sir\\nAs I already update the AC sitting c...</td>\n",
              "    </tr>\n",
              "    <tr>\n",
              "      <th>4</th>\n",
              "      <td>CommonMan Suresh Gupta Mittapally</td>\n",
              "      <td>green birthday: I am visiting schools to motiv...</td>\n",
              "    </tr>\n",
              "    <tr>\n",
              "      <th>6</th>\n",
              "      <td>Vijay Inamdar</td>\n",
              "      <td>sir Smart city Dharwad railway station should ...</td>\n",
              "    </tr>\n",
              "    <tr>\n",
              "      <th>7</th>\n",
              "      <td>Ram K</td>\n",
              "      <td>Indian women are India's biggest strength. Con...</td>\n",
              "    </tr>\n",
              "    <tr>\n",
              "      <th>...</th>\n",
              "      <td>...</td>\n",
              "      <td>...</td>\n",
              "    </tr>\n",
              "    <tr>\n",
              "      <th>522</th>\n",
              "      <td>AlishaRani</td>\n",
              "      <td>Respected prime minister sir ma aap sa police ...</td>\n",
              "    </tr>\n",
              "    <tr>\n",
              "      <th>523</th>\n",
              "      <td>Deepanshu Gupta</td>\n",
              "      <td>A New criteria and new way of Monetary punishm...</td>\n",
              "    </tr>\n",
              "    <tr>\n",
              "      <th>525</th>\n",
              "      <td>RAJEEV RANJAN</td>\n",
              "      <td>Request for lakes resoration:\\nDear PM,\\nAs we...</td>\n",
              "    </tr>\n",
              "    <tr>\n",
              "      <th>529</th>\n",
              "      <td>Arun Pareek</td>\n",
              "      <td>Everybody have to join Indian Army / Airforce ...</td>\n",
              "    </tr>\n",
              "    <tr>\n",
              "      <th>530</th>\n",
              "      <td>Venkatesh C S</td>\n",
              "      <td>my above submissions not taken seriously by H ...</td>\n",
              "    </tr>\n",
              "  </tbody>\n",
              "</table>\n",
              "<p>396 rows × 2 columns</p>\n",
              "</div>\n",
              "      <button class=\"colab-df-convert\" onclick=\"convertToInteractive('df-7f9f8e4f-30d1-4b2d-b006-26a96c66b4e2')\"\n",
              "              title=\"Convert this dataframe to an interactive table.\"\n",
              "              style=\"display:none;\">\n",
              "        \n",
              "  <svg xmlns=\"http://www.w3.org/2000/svg\" height=\"24px\"viewBox=\"0 0 24 24\"\n",
              "       width=\"24px\">\n",
              "    <path d=\"M0 0h24v24H0V0z\" fill=\"none\"/>\n",
              "    <path d=\"M18.56 5.44l.94 2.06.94-2.06 2.06-.94-2.06-.94-.94-2.06-.94 2.06-2.06.94zm-11 1L8.5 8.5l.94-2.06 2.06-.94-2.06-.94L8.5 2.5l-.94 2.06-2.06.94zm10 10l.94 2.06.94-2.06 2.06-.94-2.06-.94-.94-2.06-.94 2.06-2.06.94z\"/><path d=\"M17.41 7.96l-1.37-1.37c-.4-.4-.92-.59-1.43-.59-.52 0-1.04.2-1.43.59L10.3 9.45l-7.72 7.72c-.78.78-.78 2.05 0 2.83L4 21.41c.39.39.9.59 1.41.59.51 0 1.02-.2 1.41-.59l7.78-7.78 2.81-2.81c.8-.78.8-2.07 0-2.86zM5.41 20L4 18.59l7.72-7.72 1.47 1.35L5.41 20z\"/>\n",
              "  </svg>\n",
              "      </button>\n",
              "      \n",
              "  <style>\n",
              "    .colab-df-container {\n",
              "      display:flex;\n",
              "      flex-wrap:wrap;\n",
              "      gap: 12px;\n",
              "    }\n",
              "\n",
              "    .colab-df-convert {\n",
              "      background-color: #E8F0FE;\n",
              "      border: none;\n",
              "      border-radius: 50%;\n",
              "      cursor: pointer;\n",
              "      display: none;\n",
              "      fill: #1967D2;\n",
              "      height: 32px;\n",
              "      padding: 0 0 0 0;\n",
              "      width: 32px;\n",
              "    }\n",
              "\n",
              "    .colab-df-convert:hover {\n",
              "      background-color: #E2EBFA;\n",
              "      box-shadow: 0px 1px 2px rgba(60, 64, 67, 0.3), 0px 1px 3px 1px rgba(60, 64, 67, 0.15);\n",
              "      fill: #174EA6;\n",
              "    }\n",
              "\n",
              "    [theme=dark] .colab-df-convert {\n",
              "      background-color: #3B4455;\n",
              "      fill: #D2E3FC;\n",
              "    }\n",
              "\n",
              "    [theme=dark] .colab-df-convert:hover {\n",
              "      background-color: #434B5C;\n",
              "      box-shadow: 0px 1px 3px 1px rgba(0, 0, 0, 0.15);\n",
              "      filter: drop-shadow(0px 1px 2px rgba(0, 0, 0, 0.3));\n",
              "      fill: #FFFFFF;\n",
              "    }\n",
              "  </style>\n",
              "\n",
              "      <script>\n",
              "        const buttonEl =\n",
              "          document.querySelector('#df-7f9f8e4f-30d1-4b2d-b006-26a96c66b4e2 button.colab-df-convert');\n",
              "        buttonEl.style.display =\n",
              "          google.colab.kernel.accessAllowed ? 'block' : 'none';\n",
              "\n",
              "        async function convertToInteractive(key) {\n",
              "          const element = document.querySelector('#df-7f9f8e4f-30d1-4b2d-b006-26a96c66b4e2');\n",
              "          const dataTable =\n",
              "            await google.colab.kernel.invokeFunction('convertToInteractive',\n",
              "                                                     [key], {});\n",
              "          if (!dataTable) return;\n",
              "\n",
              "          const docLinkHtml = 'Like what you see? Visit the ' +\n",
              "            '<a target=\"_blank\" href=https://colab.research.google.com/notebooks/data_table.ipynb>data table notebook</a>'\n",
              "            + ' to learn more about interactive tables.';\n",
              "          element.innerHTML = '';\n",
              "          dataTable['output_type'] = 'display_data';\n",
              "          await google.colab.output.renderOutput(dataTable, element);\n",
              "          const docLink = document.createElement('div');\n",
              "          docLink.innerHTML = docLinkHtml;\n",
              "          element.appendChild(docLink);\n",
              "        }\n",
              "      </script>\n",
              "    </div>\n",
              "  </div>\n",
              "  "
            ]
          },
          "metadata": {},
          "execution_count": 50
        }
      ]
    },
    {
      "cell_type": "code",
      "source": [
        "df_hindi.rename(columns = {'Translated_text':'Suggestion'}, inplace = True)"
      ],
      "metadata": {
        "colab": {
          "base_uri": "https://localhost:8080/"
        },
        "id": "VvMSsGOVtAYW",
        "outputId": "384fbebc-3ce9-4715-b89b-f30947911899"
      },
      "execution_count": 55,
      "outputs": [
        {
          "output_type": "stream",
          "name": "stderr",
          "text": [
            "/usr/local/lib/python3.8/dist-packages/pandas/core/frame.py:5039: SettingWithCopyWarning: \n",
            "A value is trying to be set on a copy of a slice from a DataFrame\n",
            "\n",
            "See the caveats in the documentation: https://pandas.pydata.org/pandas-docs/stable/user_guide/indexing.html#returning-a-view-versus-a-copy\n",
            "  return super().rename(\n"
          ]
        }
      ]
    },
    {
      "cell_type": "code",
      "source": [
        "df_final = pd.concat([df_hindi,df_english],axis = 0)"
      ],
      "metadata": {
        "id": "PThLRr5ftl0K"
      },
      "execution_count": 57,
      "outputs": []
    },
    {
      "cell_type": "code",
      "source": [
        "df_final"
      ],
      "metadata": {
        "colab": {
          "base_uri": "https://localhost:8080/",
          "height": 424
        },
        "id": "aqcmnRgMtnJy",
        "outputId": "c6a20ee5-52ce-43f8-b615-7bd1915dead2"
      },
      "execution_count": 58,
      "outputs": [
        {
          "output_type": "execute_result",
          "data": {
            "text/plain": [
              "                     User Name  \\\n",
              "5             Rakesh Kumar_169   \n",
              "11   PROF RAJENDRA KUMAR VIPAT   \n",
              "18          Piyush Shrivastava   \n",
              "20          Piyush Shrivastava   \n",
              "25           Shivangkumarsingh   \n",
              "..                         ...   \n",
              "522                 AlishaRani   \n",
              "523            Deepanshu Gupta   \n",
              "525              RAJEEV RANJAN   \n",
              "529                Arun Pareek   \n",
              "530              Venkatesh C S   \n",
              "\n",
              "                                            Suggestion  \n",
              "5    [I wish that BJP should rule the country with ...  \n",
              "11   [Hon.Respected Prime Minister sir सुप्रभात 💐💐🙏...  \n",
              "18   [Sir,\\nPlease make necessary reforms/dismissal...  \n",
              "20   [Sir,\\nKindly observe the religion/castes of o...  \n",
              "25   [You people highlight this news and take it to...  \n",
              "..                                                 ...  \n",
              "522  Respected prime minister sir ma aap sa police ...  \n",
              "523  A New criteria and new way of Monetary punishm...  \n",
              "525  Request for lakes resoration:\\nDear PM,\\nAs we...  \n",
              "529  Everybody have to join Indian Army / Airforce ...  \n",
              "530  my above submissions not taken seriously by H ...  \n",
              "\n",
              "[487 rows x 2 columns]"
            ],
            "text/html": [
              "\n",
              "  <div id=\"df-6e457ac2-0530-4bf7-b858-9328a7eb26b5\">\n",
              "    <div class=\"colab-df-container\">\n",
              "      <div>\n",
              "<style scoped>\n",
              "    .dataframe tbody tr th:only-of-type {\n",
              "        vertical-align: middle;\n",
              "    }\n",
              "\n",
              "    .dataframe tbody tr th {\n",
              "        vertical-align: top;\n",
              "    }\n",
              "\n",
              "    .dataframe thead th {\n",
              "        text-align: right;\n",
              "    }\n",
              "</style>\n",
              "<table border=\"1\" class=\"dataframe\">\n",
              "  <thead>\n",
              "    <tr style=\"text-align: right;\">\n",
              "      <th></th>\n",
              "      <th>User Name</th>\n",
              "      <th>Suggestion</th>\n",
              "    </tr>\n",
              "  </thead>\n",
              "  <tbody>\n",
              "    <tr>\n",
              "      <th>5</th>\n",
              "      <td>Rakesh Kumar_169</td>\n",
              "      <td>[I wish that BJP should rule the country with ...</td>\n",
              "    </tr>\n",
              "    <tr>\n",
              "      <th>11</th>\n",
              "      <td>PROF RAJENDRA KUMAR VIPAT</td>\n",
              "      <td>[Hon.Respected Prime Minister sir सुप्रभात 💐💐🙏...</td>\n",
              "    </tr>\n",
              "    <tr>\n",
              "      <th>18</th>\n",
              "      <td>Piyush Shrivastava</td>\n",
              "      <td>[Sir,\\nPlease make necessary reforms/dismissal...</td>\n",
              "    </tr>\n",
              "    <tr>\n",
              "      <th>20</th>\n",
              "      <td>Piyush Shrivastava</td>\n",
              "      <td>[Sir,\\nKindly observe the religion/castes of o...</td>\n",
              "    </tr>\n",
              "    <tr>\n",
              "      <th>25</th>\n",
              "      <td>Shivangkumarsingh</td>\n",
              "      <td>[You people highlight this news and take it to...</td>\n",
              "    </tr>\n",
              "    <tr>\n",
              "      <th>...</th>\n",
              "      <td>...</td>\n",
              "      <td>...</td>\n",
              "    </tr>\n",
              "    <tr>\n",
              "      <th>522</th>\n",
              "      <td>AlishaRani</td>\n",
              "      <td>Respected prime minister sir ma aap sa police ...</td>\n",
              "    </tr>\n",
              "    <tr>\n",
              "      <th>523</th>\n",
              "      <td>Deepanshu Gupta</td>\n",
              "      <td>A New criteria and new way of Monetary punishm...</td>\n",
              "    </tr>\n",
              "    <tr>\n",
              "      <th>525</th>\n",
              "      <td>RAJEEV RANJAN</td>\n",
              "      <td>Request for lakes resoration:\\nDear PM,\\nAs we...</td>\n",
              "    </tr>\n",
              "    <tr>\n",
              "      <th>529</th>\n",
              "      <td>Arun Pareek</td>\n",
              "      <td>Everybody have to join Indian Army / Airforce ...</td>\n",
              "    </tr>\n",
              "    <tr>\n",
              "      <th>530</th>\n",
              "      <td>Venkatesh C S</td>\n",
              "      <td>my above submissions not taken seriously by H ...</td>\n",
              "    </tr>\n",
              "  </tbody>\n",
              "</table>\n",
              "<p>487 rows × 2 columns</p>\n",
              "</div>\n",
              "      <button class=\"colab-df-convert\" onclick=\"convertToInteractive('df-6e457ac2-0530-4bf7-b858-9328a7eb26b5')\"\n",
              "              title=\"Convert this dataframe to an interactive table.\"\n",
              "              style=\"display:none;\">\n",
              "        \n",
              "  <svg xmlns=\"http://www.w3.org/2000/svg\" height=\"24px\"viewBox=\"0 0 24 24\"\n",
              "       width=\"24px\">\n",
              "    <path d=\"M0 0h24v24H0V0z\" fill=\"none\"/>\n",
              "    <path d=\"M18.56 5.44l.94 2.06.94-2.06 2.06-.94-2.06-.94-.94-2.06-.94 2.06-2.06.94zm-11 1L8.5 8.5l.94-2.06 2.06-.94-2.06-.94L8.5 2.5l-.94 2.06-2.06.94zm10 10l.94 2.06.94-2.06 2.06-.94-2.06-.94-.94-2.06-.94 2.06-2.06.94z\"/><path d=\"M17.41 7.96l-1.37-1.37c-.4-.4-.92-.59-1.43-.59-.52 0-1.04.2-1.43.59L10.3 9.45l-7.72 7.72c-.78.78-.78 2.05 0 2.83L4 21.41c.39.39.9.59 1.41.59.51 0 1.02-.2 1.41-.59l7.78-7.78 2.81-2.81c.8-.78.8-2.07 0-2.86zM5.41 20L4 18.59l7.72-7.72 1.47 1.35L5.41 20z\"/>\n",
              "  </svg>\n",
              "      </button>\n",
              "      \n",
              "  <style>\n",
              "    .colab-df-container {\n",
              "      display:flex;\n",
              "      flex-wrap:wrap;\n",
              "      gap: 12px;\n",
              "    }\n",
              "\n",
              "    .colab-df-convert {\n",
              "      background-color: #E8F0FE;\n",
              "      border: none;\n",
              "      border-radius: 50%;\n",
              "      cursor: pointer;\n",
              "      display: none;\n",
              "      fill: #1967D2;\n",
              "      height: 32px;\n",
              "      padding: 0 0 0 0;\n",
              "      width: 32px;\n",
              "    }\n",
              "\n",
              "    .colab-df-convert:hover {\n",
              "      background-color: #E2EBFA;\n",
              "      box-shadow: 0px 1px 2px rgba(60, 64, 67, 0.3), 0px 1px 3px 1px rgba(60, 64, 67, 0.15);\n",
              "      fill: #174EA6;\n",
              "    }\n",
              "\n",
              "    [theme=dark] .colab-df-convert {\n",
              "      background-color: #3B4455;\n",
              "      fill: #D2E3FC;\n",
              "    }\n",
              "\n",
              "    [theme=dark] .colab-df-convert:hover {\n",
              "      background-color: #434B5C;\n",
              "      box-shadow: 0px 1px 3px 1px rgba(0, 0, 0, 0.15);\n",
              "      filter: drop-shadow(0px 1px 2px rgba(0, 0, 0, 0.3));\n",
              "      fill: #FFFFFF;\n",
              "    }\n",
              "  </style>\n",
              "\n",
              "      <script>\n",
              "        const buttonEl =\n",
              "          document.querySelector('#df-6e457ac2-0530-4bf7-b858-9328a7eb26b5 button.colab-df-convert');\n",
              "        buttonEl.style.display =\n",
              "          google.colab.kernel.accessAllowed ? 'block' : 'none';\n",
              "\n",
              "        async function convertToInteractive(key) {\n",
              "          const element = document.querySelector('#df-6e457ac2-0530-4bf7-b858-9328a7eb26b5');\n",
              "          const dataTable =\n",
              "            await google.colab.kernel.invokeFunction('convertToInteractive',\n",
              "                                                     [key], {});\n",
              "          if (!dataTable) return;\n",
              "\n",
              "          const docLinkHtml = 'Like what you see? Visit the ' +\n",
              "            '<a target=\"_blank\" href=https://colab.research.google.com/notebooks/data_table.ipynb>data table notebook</a>'\n",
              "            + ' to learn more about interactive tables.';\n",
              "          element.innerHTML = '';\n",
              "          dataTable['output_type'] = 'display_data';\n",
              "          await google.colab.output.renderOutput(dataTable, element);\n",
              "          const docLink = document.createElement('div');\n",
              "          docLink.innerHTML = docLinkHtml;\n",
              "          element.appendChild(docLink);\n",
              "        }\n",
              "      </script>\n",
              "    </div>\n",
              "  </div>\n",
              "  "
            ]
          },
          "metadata": {},
          "execution_count": 58
        }
      ]
    },
    {
      "cell_type": "code",
      "source": [
        "import string\n",
        "string.punctuation\n",
        "def punct(text):\n",
        "    text_punc = []\n",
        "    for char in text:\n",
        "        if char  not in string.punctuation:\n",
        "            text_punc.append(char)\n",
        "        text_joined  = ''.join(text_punc)  \n",
        "    return text_joined\n",
        "    \n"
      ],
      "metadata": {
        "id": "OsNZYc6WtwDF"
      },
      "execution_count": 59,
      "outputs": []
    },
    {
      "cell_type": "code",
      "source": [
        "df_final['Suggestions'] = df_final['Suggestion'].apply(punct)"
      ],
      "metadata": {
        "id": "biuc9kVZt_v_"
      },
      "execution_count": 61,
      "outputs": []
    },
    {
      "cell_type": "code",
      "source": [
        "\n",
        "import nltk\n",
        "nltk.download(\"stopwords\")\n",
        "from nltk.corpus import stopwords\n",
        "stop_words = stopwords.words('english')\n",
        "\n",
        "def preprocess(text):\n",
        "    result = []\n",
        "    for token in gensim.utils.simple_preprocess(text):\n",
        "        if len(token) >=3 and token not in stop_words:\n",
        "            result.append(token)\n",
        "    return result  "
      ],
      "metadata": {
        "colab": {
          "base_uri": "https://localhost:8080/"
        },
        "id": "4VyLivkouAWy",
        "outputId": "55a61e9f-db3d-459d-9725-98a3d15ddce8"
      },
      "execution_count": 62,
      "outputs": [
        {
          "output_type": "stream",
          "name": "stderr",
          "text": [
            "[nltk_data] Downloading package stopwords to /root/nltk_data...\n",
            "[nltk_data]   Unzipping corpora/stopwords.zip.\n"
          ]
        }
      ]
    },
    {
      "cell_type": "code",
      "source": [
        "import gensim"
      ],
      "metadata": {
        "id": "apbBFnY4uAUa"
      },
      "execution_count": 63,
      "outputs": []
    },
    {
      "cell_type": "code",
      "source": [
        "df_final['text'] = df_final['Suggestions'].apply(preprocess)\n",
        "df_final['Text'] = df_final['text'].apply(lambda x: \" \".join(x))"
      ],
      "metadata": {
        "id": "Y_6FHGSJuEU6"
      },
      "execution_count": 65,
      "outputs": []
    },
    {
      "cell_type": "code",
      "source": [
        "df_final"
      ],
      "metadata": {
        "colab": {
          "base_uri": "https://localhost:8080/",
          "height": 641
        },
        "id": "fUUwz0ntudtW",
        "outputId": "e3c4ad15-d47e-48fa-eccc-3d60a3c97c54"
      },
      "execution_count": 66,
      "outputs": [
        {
          "output_type": "execute_result",
          "data": {
            "text/plain": [
              "                     User Name  \\\n",
              "5             Rakesh Kumar_169   \n",
              "11   PROF RAJENDRA KUMAR VIPAT   \n",
              "18          Piyush Shrivastava   \n",
              "20          Piyush Shrivastava   \n",
              "25           Shivangkumarsingh   \n",
              "..                         ...   \n",
              "522                 AlishaRani   \n",
              "523            Deepanshu Gupta   \n",
              "525              RAJEEV RANJAN   \n",
              "529                Arun Pareek   \n",
              "530              Venkatesh C S   \n",
              "\n",
              "                                            Suggestion  \\\n",
              "5    [I wish that BJP should rule the country with ...   \n",
              "11   [Hon.Respected Prime Minister sir सुप्रभात 💐💐🙏...   \n",
              "18   [Sir,\\nPlease make necessary reforms/dismissal...   \n",
              "20   [Sir,\\nKindly observe the religion/castes of o...   \n",
              "25   [You people highlight this news and take it to...   \n",
              "..                                                 ...   \n",
              "522  Respected prime minister sir ma aap sa police ...   \n",
              "523  A New criteria and new way of Monetary punishm...   \n",
              "525  Request for lakes resoration:\\nDear PM,\\nAs we...   \n",
              "529  Everybody have to join Indian Army / Airforce ...   \n",
              "530  my above submissions not taken seriously by H ...   \n",
              "\n",
              "                                           Suggestions  \\\n",
              "5    I wish that BJP should rule the country with f...   \n",
              "11   Hon.Respected Prime Minister sir सुप्रभात 💐💐🙏💐...   \n",
              "18   Sir,\\nPlease make necessary reforms/dismissal ...   \n",
              "20   Sir,\\nKindly observe the religion/castes of ot...   \n",
              "25   You people highlight this news and take it to ...   \n",
              "..                                                 ...   \n",
              "522  Respected prime minister sir ma aap sa police ...   \n",
              "523  A New criteria and new way of Monetary punishm...   \n",
              "525  Request for lakes resoration\\nDear PM\\nAs we k...   \n",
              "529  Everybody have to join Indian Army  Airforce  ...   \n",
              "530  my above submissions not taken seriously by H ...   \n",
              "\n",
              "                                                  text  \\\n",
              "5    [wish, bjp, rule, country, full, majority, com...   \n",
              "11   [hon, respected, prime, minister, sir, please,...   \n",
              "18   [sir, please, make, necessary, reforms, dismis...   \n",
              "20   [sir, kindly, observe, religion, castes, leade...   \n",
              "25   [people, highlight, news, take, government, ce...   \n",
              "..                                                 ...   \n",
              "522  [respected, prime, minister, sir, aap, police,...   \n",
              "523  [new, criteria, new, way, monetary, punishment...   \n",
              "525  [request, lakes, resoration, dear, know, water...   \n",
              "529  [everybody, join, indian, army, airforce, navy...   \n",
              "530  [submissions, taken, seriously, india, departm...   \n",
              "\n",
              "                                                  Text  \n",
              "5    wish bjp rule country full majority coming ele...  \n",
              "11   hon respected prime minister sir please find e...  \n",
              "18   sir please make necessary reforms dismissal ch...  \n",
              "20   sir kindly observe religion castes leaders inc...  \n",
              "25   people highlight news take government central ...  \n",
              "..                                                 ...  \n",
              "522  respected prime minister sir aap police force ...  \n",
              "523  new criteria new way monetary punishment adopt...  \n",
              "525  request lakes resoration dear know water secur...  \n",
              "529  everybody join indian army airforce navy least...  \n",
              "530  submissions taken seriously india departments ...  \n",
              "\n",
              "[487 rows x 5 columns]"
            ],
            "text/html": [
              "\n",
              "  <div id=\"df-a733837d-52cc-4034-8eae-6531740e79eb\">\n",
              "    <div class=\"colab-df-container\">\n",
              "      <div>\n",
              "<style scoped>\n",
              "    .dataframe tbody tr th:only-of-type {\n",
              "        vertical-align: middle;\n",
              "    }\n",
              "\n",
              "    .dataframe tbody tr th {\n",
              "        vertical-align: top;\n",
              "    }\n",
              "\n",
              "    .dataframe thead th {\n",
              "        text-align: right;\n",
              "    }\n",
              "</style>\n",
              "<table border=\"1\" class=\"dataframe\">\n",
              "  <thead>\n",
              "    <tr style=\"text-align: right;\">\n",
              "      <th></th>\n",
              "      <th>User Name</th>\n",
              "      <th>Suggestion</th>\n",
              "      <th>Suggestions</th>\n",
              "      <th>text</th>\n",
              "      <th>Text</th>\n",
              "    </tr>\n",
              "  </thead>\n",
              "  <tbody>\n",
              "    <tr>\n",
              "      <th>5</th>\n",
              "      <td>Rakesh Kumar_169</td>\n",
              "      <td>[I wish that BJP should rule the country with ...</td>\n",
              "      <td>I wish that BJP should rule the country with f...</td>\n",
              "      <td>[wish, bjp, rule, country, full, majority, com...</td>\n",
              "      <td>wish bjp rule country full majority coming ele...</td>\n",
              "    </tr>\n",
              "    <tr>\n",
              "      <th>11</th>\n",
              "      <td>PROF RAJENDRA KUMAR VIPAT</td>\n",
              "      <td>[Hon.Respected Prime Minister sir सुप्रभात 💐💐🙏...</td>\n",
              "      <td>Hon.Respected Prime Minister sir सुप्रभात 💐💐🙏💐...</td>\n",
              "      <td>[hon, respected, prime, minister, sir, please,...</td>\n",
              "      <td>hon respected prime minister sir please find e...</td>\n",
              "    </tr>\n",
              "    <tr>\n",
              "      <th>18</th>\n",
              "      <td>Piyush Shrivastava</td>\n",
              "      <td>[Sir,\\nPlease make necessary reforms/dismissal...</td>\n",
              "      <td>Sir,\\nPlease make necessary reforms/dismissal ...</td>\n",
              "      <td>[sir, please, make, necessary, reforms, dismis...</td>\n",
              "      <td>sir please make necessary reforms dismissal ch...</td>\n",
              "    </tr>\n",
              "    <tr>\n",
              "      <th>20</th>\n",
              "      <td>Piyush Shrivastava</td>\n",
              "      <td>[Sir,\\nKindly observe the religion/castes of o...</td>\n",
              "      <td>Sir,\\nKindly observe the religion/castes of ot...</td>\n",
              "      <td>[sir, kindly, observe, religion, castes, leade...</td>\n",
              "      <td>sir kindly observe religion castes leaders inc...</td>\n",
              "    </tr>\n",
              "    <tr>\n",
              "      <th>25</th>\n",
              "      <td>Shivangkumarsingh</td>\n",
              "      <td>[You people highlight this news and take it to...</td>\n",
              "      <td>You people highlight this news and take it to ...</td>\n",
              "      <td>[people, highlight, news, take, government, ce...</td>\n",
              "      <td>people highlight news take government central ...</td>\n",
              "    </tr>\n",
              "    <tr>\n",
              "      <th>...</th>\n",
              "      <td>...</td>\n",
              "      <td>...</td>\n",
              "      <td>...</td>\n",
              "      <td>...</td>\n",
              "      <td>...</td>\n",
              "    </tr>\n",
              "    <tr>\n",
              "      <th>522</th>\n",
              "      <td>AlishaRani</td>\n",
              "      <td>Respected prime minister sir ma aap sa police ...</td>\n",
              "      <td>Respected prime minister sir ma aap sa police ...</td>\n",
              "      <td>[respected, prime, minister, sir, aap, police,...</td>\n",
              "      <td>respected prime minister sir aap police force ...</td>\n",
              "    </tr>\n",
              "    <tr>\n",
              "      <th>523</th>\n",
              "      <td>Deepanshu Gupta</td>\n",
              "      <td>A New criteria and new way of Monetary punishm...</td>\n",
              "      <td>A New criteria and new way of Monetary punishm...</td>\n",
              "      <td>[new, criteria, new, way, monetary, punishment...</td>\n",
              "      <td>new criteria new way monetary punishment adopt...</td>\n",
              "    </tr>\n",
              "    <tr>\n",
              "      <th>525</th>\n",
              "      <td>RAJEEV RANJAN</td>\n",
              "      <td>Request for lakes resoration:\\nDear PM,\\nAs we...</td>\n",
              "      <td>Request for lakes resoration\\nDear PM\\nAs we k...</td>\n",
              "      <td>[request, lakes, resoration, dear, know, water...</td>\n",
              "      <td>request lakes resoration dear know water secur...</td>\n",
              "    </tr>\n",
              "    <tr>\n",
              "      <th>529</th>\n",
              "      <td>Arun Pareek</td>\n",
              "      <td>Everybody have to join Indian Army / Airforce ...</td>\n",
              "      <td>Everybody have to join Indian Army  Airforce  ...</td>\n",
              "      <td>[everybody, join, indian, army, airforce, navy...</td>\n",
              "      <td>everybody join indian army airforce navy least...</td>\n",
              "    </tr>\n",
              "    <tr>\n",
              "      <th>530</th>\n",
              "      <td>Venkatesh C S</td>\n",
              "      <td>my above submissions not taken seriously by H ...</td>\n",
              "      <td>my above submissions not taken seriously by H ...</td>\n",
              "      <td>[submissions, taken, seriously, india, departm...</td>\n",
              "      <td>submissions taken seriously india departments ...</td>\n",
              "    </tr>\n",
              "  </tbody>\n",
              "</table>\n",
              "<p>487 rows × 5 columns</p>\n",
              "</div>\n",
              "      <button class=\"colab-df-convert\" onclick=\"convertToInteractive('df-a733837d-52cc-4034-8eae-6531740e79eb')\"\n",
              "              title=\"Convert this dataframe to an interactive table.\"\n",
              "              style=\"display:none;\">\n",
              "        \n",
              "  <svg xmlns=\"http://www.w3.org/2000/svg\" height=\"24px\"viewBox=\"0 0 24 24\"\n",
              "       width=\"24px\">\n",
              "    <path d=\"M0 0h24v24H0V0z\" fill=\"none\"/>\n",
              "    <path d=\"M18.56 5.44l.94 2.06.94-2.06 2.06-.94-2.06-.94-.94-2.06-.94 2.06-2.06.94zm-11 1L8.5 8.5l.94-2.06 2.06-.94-2.06-.94L8.5 2.5l-.94 2.06-2.06.94zm10 10l.94 2.06.94-2.06 2.06-.94-2.06-.94-.94-2.06-.94 2.06-2.06.94z\"/><path d=\"M17.41 7.96l-1.37-1.37c-.4-.4-.92-.59-1.43-.59-.52 0-1.04.2-1.43.59L10.3 9.45l-7.72 7.72c-.78.78-.78 2.05 0 2.83L4 21.41c.39.39.9.59 1.41.59.51 0 1.02-.2 1.41-.59l7.78-7.78 2.81-2.81c.8-.78.8-2.07 0-2.86zM5.41 20L4 18.59l7.72-7.72 1.47 1.35L5.41 20z\"/>\n",
              "  </svg>\n",
              "      </button>\n",
              "      \n",
              "  <style>\n",
              "    .colab-df-container {\n",
              "      display:flex;\n",
              "      flex-wrap:wrap;\n",
              "      gap: 12px;\n",
              "    }\n",
              "\n",
              "    .colab-df-convert {\n",
              "      background-color: #E8F0FE;\n",
              "      border: none;\n",
              "      border-radius: 50%;\n",
              "      cursor: pointer;\n",
              "      display: none;\n",
              "      fill: #1967D2;\n",
              "      height: 32px;\n",
              "      padding: 0 0 0 0;\n",
              "      width: 32px;\n",
              "    }\n",
              "\n",
              "    .colab-df-convert:hover {\n",
              "      background-color: #E2EBFA;\n",
              "      box-shadow: 0px 1px 2px rgba(60, 64, 67, 0.3), 0px 1px 3px 1px rgba(60, 64, 67, 0.15);\n",
              "      fill: #174EA6;\n",
              "    }\n",
              "\n",
              "    [theme=dark] .colab-df-convert {\n",
              "      background-color: #3B4455;\n",
              "      fill: #D2E3FC;\n",
              "    }\n",
              "\n",
              "    [theme=dark] .colab-df-convert:hover {\n",
              "      background-color: #434B5C;\n",
              "      box-shadow: 0px 1px 3px 1px rgba(0, 0, 0, 0.15);\n",
              "      filter: drop-shadow(0px 1px 2px rgba(0, 0, 0, 0.3));\n",
              "      fill: #FFFFFF;\n",
              "    }\n",
              "  </style>\n",
              "\n",
              "      <script>\n",
              "        const buttonEl =\n",
              "          document.querySelector('#df-a733837d-52cc-4034-8eae-6531740e79eb button.colab-df-convert');\n",
              "        buttonEl.style.display =\n",
              "          google.colab.kernel.accessAllowed ? 'block' : 'none';\n",
              "\n",
              "        async function convertToInteractive(key) {\n",
              "          const element = document.querySelector('#df-a733837d-52cc-4034-8eae-6531740e79eb');\n",
              "          const dataTable =\n",
              "            await google.colab.kernel.invokeFunction('convertToInteractive',\n",
              "                                                     [key], {});\n",
              "          if (!dataTable) return;\n",
              "\n",
              "          const docLinkHtml = 'Like what you see? Visit the ' +\n",
              "            '<a target=\"_blank\" href=https://colab.research.google.com/notebooks/data_table.ipynb>data table notebook</a>'\n",
              "            + ' to learn more about interactive tables.';\n",
              "          element.innerHTML = '';\n",
              "          dataTable['output_type'] = 'display_data';\n",
              "          await google.colab.output.renderOutput(dataTable, element);\n",
              "          const docLink = document.createElement('div');\n",
              "          docLink.innerHTML = docLinkHtml;\n",
              "          element.appendChild(docLink);\n",
              "        }\n",
              "      </script>\n",
              "    </div>\n",
              "  </div>\n",
              "  "
            ]
          },
          "metadata": {},
          "execution_count": 66
        }
      ]
    },
    {
      "cell_type": "code",
      "source": [
        "df_final.drop(['Suggestion' , 'Suggestions' , 'text'] , axis = 1  , inplace = True)"
      ],
      "metadata": {
        "id": "HsUZS2oWufTl"
      },
      "execution_count": 67,
      "outputs": []
    },
    {
      "cell_type": "code",
      "source": [
        "df_final.to_csv('processed_suggestions.csv', index=False)"
      ],
      "metadata": {
        "id": "55z5vWLUun3y"
      },
      "execution_count": 70,
      "outputs": []
    }
  ]
}